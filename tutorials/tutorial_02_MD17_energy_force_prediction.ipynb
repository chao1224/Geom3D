{
 "cells": [
  {
   "cell_type": "markdown",
   "id": "41bee821",
   "metadata": {},
   "source": [
    "# Tutorial 2: MD17 Energy and Force Prediction"
   ]
  },
  {
   "cell_type": "markdown",
   "id": "df8ba1cb",
   "metadata": {},
   "source": [
    "## Step 1. Load Packages and Set Random Seeds and Device"
   ]
  },
  {
   "cell_type": "code",
   "execution_count": 2,
   "id": "1f4eef18",
   "metadata": {},
   "outputs": [],
   "source": [
    "import numpy as np\n",
    "\n",
    "import torch\n",
    "import torch.nn as nn\n",
    "import torch.optim as optim\n",
    "from torch_geometric.loader import DataLoader\n",
    "from torch.autograd import grad\n",
    "\n",
    "from Geom3D.models import SchNet\n",
    "from Geom3D.datasets import DatasetMD17\n",
    "\n",
    "import sys\n",
    "sys.path.insert(0, \"../examples_3D\")\n",
    "\n",
    "from tqdm import tqdm\n",
    "\n",
    "seed = 42\n",
    "np.random.seed(seed)\n",
    "torch.cuda.manual_seed_all(seed)\n",
    "\n",
    "device = \"cuda\" if torch.cuda.is_available() else torch.device(\"cpu\")"
   ]
  },
  {
   "cell_type": "markdown",
   "id": "611b3341",
   "metadata": {},
   "source": [
    "## Step 2. Set Task, Dataset and Dataloader"
   ]
  },
  {
   "cell_type": "code",
   "execution_count": 3,
   "id": "280daf0d",
   "metadata": {},
   "outputs": [],
   "source": [
    "data_root = \"../data/MD17\"\n",
    "task = \"aspirin\"\n",
    "\n",
    "dataset = DatasetMD17(data_root, task=task)\n",
    "split_idx = dataset.get_idx_split(len(dataset.data.y), train_size=1000, valid_size=1000, seed=seed)\n",
    "\n",
    "# Split into train-valid-test\n",
    "train_dataset, valid_dataset, test_dataset = \\\n",
    "    dataset[split_idx['train']], dataset[split_idx['valid']], dataset[split_idx['test']]\n",
    "\n",
    "# Remove energy mean.\n",
    "ENERGY_MEAN_TOTAL = 0\n",
    "FORCE_MEAN_TOTAL = 0\n",
    "NUM_ATOM = None\n",
    "for data in train_dataset:\n",
    "    energy = data.y\n",
    "    force = data.force\n",
    "    NUM_ATOM = force.size()[0]\n",
    "    energy_mean = energy / NUM_ATOM\n",
    "    ENERGY_MEAN_TOTAL += energy_mean\n",
    "    force_rms = torch.sqrt(torch.mean(force.square()))\n",
    "    FORCE_MEAN_TOTAL += force_rms\n",
    "ENERGY_MEAN_TOTAL /= len(train_dataset)\n",
    "FORCE_MEAN_TOTAL /= len(train_dataset)\n",
    "ENERGY_MEAN_TOTAL = ENERGY_MEAN_TOTAL.to(device)\n",
    "FORCE_MEAN_TOTAL = FORCE_MEAN_TOTAL.to(device)\n",
    "\n",
    "\n",
    "# Set dataloaders\n",
    "batch_size = 128\n",
    "MD17_train_batch_size = 1\n",
    "num_workers = 0\n",
    "train_loader = DataLoader(train_dataset, batch_size=MD17_train_batch_size, shuffle=True, num_workers=num_workers)\n",
    "valid_loader = DataLoader(valid_dataset, batch_size=batch_size, shuffle=False, num_workers=num_workers)\n",
    "test_loader = DataLoader(test_dataset, batch_size=batch_size, shuffle=False, num_workers=num_workers)"
   ]
  },
  {
   "cell_type": "markdown",
   "id": "f9c2fdbb",
   "metadata": {},
   "source": [
    "## Step 3. Set Model"
   ]
  },
  {
   "cell_type": "code",
   "execution_count": 4,
   "id": "d05f43f7",
   "metadata": {},
   "outputs": [],
   "source": [
    "node_class, edge_class = 119, 5\n",
    "num_tasks = 1\n",
    "\n",
    "emb_dim = 128\n",
    "SchNet_num_filters = 128\n",
    "SchNet_num_interactions = 6\n",
    "SchNet_num_gaussians = 51\n",
    "SchNet_cutoff = 10\n",
    "SchNet_readout = \"mean\"\n",
    "\n",
    "model = SchNet(\n",
    "    hidden_channels=emb_dim,\n",
    "    num_filters=SchNet_num_filters,\n",
    "    num_interactions=SchNet_num_interactions,\n",
    "    num_gaussians=SchNet_num_gaussians,\n",
    "    cutoff=SchNet_cutoff,\n",
    "    readout=SchNet_readout,\n",
    "    node_class=node_class,\n",
    ").to(device)\n",
    "graph_pred_linear = torch.nn.Linear(emb_dim, num_tasks).to(device)"
   ]
  },
  {
   "cell_type": "markdown",
   "id": "4f8aecbe",
   "metadata": {},
   "source": [
    "## Step 4. Set Optimizer"
   ]
  },
  {
   "cell_type": "code",
   "execution_count": 5,
   "id": "f4942384",
   "metadata": {},
   "outputs": [],
   "source": [
    "lr = 5e-4\n",
    "decay = 0\n",
    "criterion = nn.L1Loss()\n",
    "\n",
    "model_param_group = [\n",
    "    {\"params\": model.parameters(), \"lr\": lr},\n",
    "    {\"params\": graph_pred_linear.parameters(), \"lr\": lr}]\n",
    "optimizer = optim.Adam(model_param_group, lr=lr, weight_decay=decay)"
   ]
  },
  {
   "cell_type": "markdown",
   "id": "ce9be0bf",
   "metadata": {},
   "source": [
    "# Step 5. Start Training"
   ]
  },
  {
   "cell_type": "code",
   "execution_count": 6,
   "id": "2375e822",
   "metadata": {},
   "outputs": [
    {
     "name": "stderr",
     "output_type": "stream",
     "text": [
      "  0%|                                                                                                                 | 0/1000 [00:00<?, ?it/s]/home/admin.shengchao.liu/anaconda3/envs/Geom3D_debug/lib/python3.7/site-packages/torch/nn/modules/loss.py:97: UserWarning: Using a target size (torch.Size([1])) that is different to the input size (torch.Size([])). This will likely lead to incorrect results due to broadcasting. Please ensure they have the same size.\n",
      "  return F.l1_loss(input, target, reduction=self.reduction)\n",
      "100%|██████████████████████████████████████████████████████████████████████████████████████████████████████| 1000/1000 [00:18<00:00, 53.19it/s]\n"
     ]
    }
   ],
   "source": [
    "md17_energy_coeff = 0.05\n",
    "md17_force_coeff = 0.95\n",
    "\n",
    "epochs = 1\n",
    "for e in range(1, 1+epochs):\n",
    "    for batch in tqdm(train_loader):\n",
    "        batch = batch.to(device)\n",
    "        positions = batch.positions\n",
    "        positions.requires_grad_()\n",
    "        \n",
    "        molecule_3D_repr = model(batch.x, positions, batch.batch)\n",
    "        pred_energy = graph_pred_linear(molecule_3D_repr).squeeze()\n",
    "        pred_force = -grad(\n",
    "            outputs=pred_energy, inputs=positions, grad_outputs=torch.ones_like(pred_energy),\n",
    "            create_graph=True, retain_graph=True)[0]\n",
    "\n",
    "        actual_energy = batch.y\n",
    "        actual_force = batch.force\n",
    "        \n",
    "        loss = md17_energy_coeff * criterion(pred_energy, actual_energy) + \\\n",
    "                md17_force_coeff * criterion(pred_force, actual_force)\n",
    "\n",
    "        optimizer.zero_grad()\n",
    "        loss.backward()\n",
    "        optimizer.step()"
   ]
  },
  {
   "cell_type": "markdown",
   "id": "3536600e",
   "metadata": {},
   "source": [
    "## Step 6. Start Evaluation"
   ]
  },
  {
   "cell_type": "code",
   "execution_count": 7,
   "id": "0209dbd8",
   "metadata": {},
   "outputs": [
    {
     "name": "stderr",
     "output_type": "stream",
     "text": [
      "100%|████████████████████████████████████████████████████████████████████████████████████████████████████████████| 8/8 [00:00<00:00, 31.84it/s]"
     ]
    },
    {
     "name": "stdout",
     "output_type": "stream",
     "text": [
      "Energy: 21143.380859375\n",
      "Force: 352.1929016113281\n"
     ]
    },
    {
     "name": "stderr",
     "output_type": "stream",
     "text": [
      "\n"
     ]
    }
   ],
   "source": [
    "def mean_absolute_error(pred, target):\n",
    "    return np.mean(np.abs(pred - target))\n",
    "\n",
    "model.eval()\n",
    "graph_pred_linear.eval()\n",
    "pred_force_list = torch.Tensor([]).to(device)\n",
    "actual_force_list = torch.Tensor([]).to(device)\n",
    "\n",
    "pred_energy_list, actual_energy_list = [], []\n",
    "\n",
    "for batch in tqdm(valid_loader):\n",
    "    batch = batch.to(device)\n",
    "    positions = batch.positions\n",
    "    positions.requires_grad_()\n",
    "\n",
    "    molecule_3D_repr = model(batch.x, positions, batch.batch)\n",
    "    pred_energy = graph_pred_linear(molecule_3D_repr).squeeze()\n",
    "    force = -grad(\n",
    "        outputs=pred_energy, inputs=positions, grad_outputs=torch.ones_like(pred_energy),\n",
    "        create_graph=True, retain_graph=True)[0]\n",
    "\n",
    "    pred_energy_list.append(pred_energy.cpu().detach())\n",
    "    actual_energy_list.append(batch.y.cpu())\n",
    "    pred_force_list = torch.cat([pred_force_list, force], dim=0)\n",
    "    actual_force_list = torch.cat([actual_force_list, batch.force], dim=0)\n",
    "\n",
    "pred_energy_list = torch.cat(pred_energy_list, dim=0)\n",
    "actual_energy_list = torch.cat(actual_energy_list, dim=0)\n",
    "energy_mae = torch.mean(torch.abs(pred_energy_list - actual_energy_list)).cpu().item()\n",
    "force_mae = torch.mean(torch.abs(pred_force_list - actual_force_list)).cpu().item()\n",
    "\n",
    "print(\"Energy: {}\".format(energy_mae))\n",
    "print(\"Force: {}\".format(force_mae))"
   ]
  }
 ],
 "metadata": {
  "kernelspec": {
   "display_name": "Python 3 (ipykernel)",
   "language": "python",
   "name": "python3"
  },
  "language_info": {
   "codemirror_mode": {
    "name": "ipython",
    "version": 3
   },
   "file_extension": ".py",
   "mimetype": "text/x-python",
   "name": "python",
   "nbconvert_exporter": "python",
   "pygments_lexer": "ipython3",
   "version": "3.7.13"
  }
 },
 "nbformat": 4,
 "nbformat_minor": 5
}
