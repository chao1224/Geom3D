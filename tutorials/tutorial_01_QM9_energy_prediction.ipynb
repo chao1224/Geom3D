{
 "cells": [
  {
   "cell_type": "markdown",
   "id": "41bee821",
   "metadata": {},
   "source": [
    "# Tutorial 2: QM9 Energy Prediction"
   ]
  },
  {
   "cell_type": "markdown",
   "id": "df8ba1cb",
   "metadata": {},
   "source": [
    "## Step 1. Load Packages and Set Random Seeds and Device"
   ]
  },
  {
   "cell_type": "code",
   "execution_count": 2,
   "id": "1f4eef18",
   "metadata": {},
   "outputs": [],
   "source": [
    "import numpy as np\n",
    "\n",
    "import torch\n",
    "import torch.nn as nn\n",
    "import torch.optim as optim\n",
    "from torch_geometric.loader import DataLoader\n",
    "\n",
    "from Geom3D.models import SchNet\n",
    "from Geom3D.datasets import MoleculeDatasetQM9\n",
    "\n",
    "import sys\n",
    "sys.path.insert(0, \"../examples_3D\")\n",
    "\n",
    "from tqdm import tqdm\n",
    "\n",
    "seed = 42\n",
    "np.random.seed(seed)\n",
    "torch.cuda.manual_seed_all(seed)\n",
    "\n",
    "device = \"cuda\" if torch.cuda.is_available() else torch.device(\"cpu\")"
   ]
  },
  {
   "cell_type": "markdown",
   "id": "611b3341",
   "metadata": {},
   "source": [
    "## Step 2. Set Task, Dataset and Dataloader"
   ]
  },
  {
   "cell_type": "code",
   "execution_count": 3,
   "id": "280daf0d",
   "metadata": {},
   "outputs": [
    {
     "name": "stdout",
     "output_type": "stream",
     "text": [
      "Dataset: QM9\n",
      "Data: Data(x=[2359210], edge_index=[2, 4883516], edge_attr=[4883516, 3], positions=[2359210, 3], id=[130831], y=[1700803])\n",
      "train_idx:  [112526 100113  55940 ...  62969  20239  83098]\n",
      "valid_idx:  [ 90042  89438  45073 ...  60277  89452 125059]\n",
      "test_idx:  [ 24143  20981  30492 ...    860  15795 121958]\n",
      "Train mean: -76.16375732421875\tTrain std: 9.87142562866211\n"
     ]
    }
   ],
   "source": [
    "dataset = \"QM9\"\n",
    "task = \"u0\"\n",
    "\n",
    "data_root = \"../data/{}\".format(dataset)\n",
    "dataset = MoleculeDatasetQM9(data_root, dataset=dataset, task=task)\n",
    "task_id = dataset.task_id\n",
    "\n",
    "# Split into train-valid-test\n",
    "from splitters import qm9_random_customized_01\n",
    "train_dataset, valid_dataset, test_dataset = qm9_random_customized_01(dataset, seed=seed)\n",
    "\n",
    "\n",
    "# Get the mean and std on the task property in training set\n",
    "TRAIN_mean, TRAIN_std = (\n",
    "    train_dataset.mean()[task_id].item(),\n",
    "    train_dataset.std()[task_id].item(),\n",
    ")\n",
    "print(\"Train mean: {}\\tTrain std: {}\".format(TRAIN_mean, TRAIN_std))\n",
    "\n",
    "\n",
    "# Set dataloaders\n",
    "batch_size = 128\n",
    "num_workers = 0\n",
    "train_loader = DataLoader(train_dataset, batch_size=batch_size, shuffle=True, num_workers=num_workers)\n",
    "val_loader = DataLoader(valid_dataset, batch_size=batch_size, shuffle=False, num_workers=num_workers)\n",
    "test_loader = DataLoader(test_dataset, batch_size=batch_size, shuffle=False, num_workers=num_workers)"
   ]
  },
  {
   "cell_type": "markdown",
   "id": "f9c2fdbb",
   "metadata": {},
   "source": [
    "## Step 3. Set Model"
   ]
  },
  {
   "cell_type": "code",
   "execution_count": 4,
   "id": "d05f43f7",
   "metadata": {},
   "outputs": [],
   "source": [
    "node_class, edge_class = 119, 5\n",
    "num_tasks = 1\n",
    "\n",
    "emb_dim = 128\n",
    "SchNet_num_filters = 128\n",
    "SchNet_num_interactions = 6\n",
    "SchNet_num_gaussians = 51\n",
    "SchNet_cutoff = 10\n",
    "SchNet_readout = \"mean\"\n",
    "\n",
    "model = SchNet(\n",
    "    hidden_channels=emb_dim,\n",
    "    num_filters=SchNet_num_filters,\n",
    "    num_interactions=SchNet_num_interactions,\n",
    "    num_gaussians=SchNet_num_gaussians,\n",
    "    cutoff=SchNet_cutoff,\n",
    "    readout=SchNet_readout,\n",
    "    node_class=node_class,\n",
    ").to(device)\n",
    "graph_pred_linear = torch.nn.Linear(emb_dim, num_tasks).to(device)"
   ]
  },
  {
   "cell_type": "markdown",
   "id": "4f8aecbe",
   "metadata": {},
   "source": [
    "## Step 4. Set Optimizer"
   ]
  },
  {
   "cell_type": "code",
   "execution_count": 5,
   "id": "f4942384",
   "metadata": {},
   "outputs": [],
   "source": [
    "lr = 5e-4\n",
    "decay = 0\n",
    "criterion = nn.L1Loss()\n",
    "\n",
    "model_param_group = [\n",
    "    {\"params\": model.parameters(), \"lr\": lr},\n",
    "    {\"params\": graph_pred_linear.parameters(), \"lr\": lr}]\n",
    "optimizer = optim.Adam(model_param_group, lr=lr, weight_decay=decay)"
   ]
  },
  {
   "cell_type": "markdown",
   "id": "ce9be0bf",
   "metadata": {},
   "source": [
    "# Step 5. Start Training"
   ]
  },
  {
   "cell_type": "code",
   "execution_count": 6,
   "id": "2375e822",
   "metadata": {},
   "outputs": [
    {
     "name": "stderr",
     "output_type": "stream",
     "text": [
      "100%|████████████████████████████████████████████████████████████████████████████████████████████████████████| 860/860 [00:20<00:00, 42.45it/s]\n"
     ]
    }
   ],
   "source": [
    "epochs = 1\n",
    "for e in range(1, 1+epochs):\n",
    "    for batch in tqdm(train_loader):\n",
    "        batch = batch.to(device)\n",
    "        \n",
    "        molecule_3D_repr = model(batch.x, batch.positions, batch.batch)\n",
    "        pred = graph_pred_linear(molecule_3D_repr).squeeze()\n",
    "        \n",
    "        B = pred.size()[0]\n",
    "        y = batch.y.view(B, -1)[:, task_id]\n",
    "        # normalize\n",
    "        y = (y - TRAIN_mean) / TRAIN_std\n",
    "\n",
    "        loss = criterion(pred, y)\n",
    "\n",
    "        optimizer.zero_grad()\n",
    "        loss.backward()\n",
    "        optimizer.step()"
   ]
  },
  {
   "cell_type": "markdown",
   "id": "3536600e",
   "metadata": {},
   "source": [
    "## Step 6. Start Evaluation"
   ]
  },
  {
   "cell_type": "code",
   "execution_count": 7,
   "id": "0209dbd8",
   "metadata": {},
   "outputs": [
    {
     "name": "stderr",
     "output_type": "stream",
     "text": [
      "100%|██████████████████████████████████████████████████████████████████████████████████████████████████████████| 85/85 [00:01<00:00, 58.13it/s]"
     ]
    },
    {
     "name": "stdout",
     "output_type": "stream",
     "text": [
      "MAE: 0.9062439799308777\n"
     ]
    },
    {
     "name": "stderr",
     "output_type": "stream",
     "text": [
      "\n"
     ]
    }
   ],
   "source": [
    "def mean_absolute_error(pred, target):\n",
    "    return np.mean(np.abs(pred - target))\n",
    "\n",
    "with torch.no_grad():\n",
    "    model.eval()\n",
    "    graph_pred_linear.eval()\n",
    "\n",
    "    y_true = []\n",
    "    y_scores = []\n",
    "\n",
    "    for batch in tqdm(test_loader):\n",
    "        batch = batch.to(device)\n",
    "\n",
    "        molecule_3D_repr = model(batch.x, batch.positions, batch.batch)\n",
    "\n",
    "        pred = graph_pred_linear(molecule_3D_repr).squeeze()\n",
    "\n",
    "        B = pred.size()[0]\n",
    "        y = batch.y.view(B, -1)[:, task_id]\n",
    "        # denormalize\n",
    "        pred = pred * TRAIN_std + TRAIN_mean\n",
    "\n",
    "        y_true.append(y)\n",
    "        y_scores.append(pred)\n",
    "\n",
    "    y_true = torch.cat(y_true, dim=0).cpu().numpy()\n",
    "    y_scores = torch.cat(y_scores, dim=0).cpu().numpy()\n",
    "\n",
    "    mae = mean_absolute_error(y_scores, y_true)\n",
    "    print(\"MAE: {}\".format(mae))"
   ]
  }
 ],
 "metadata": {
  "kernelspec": {
   "display_name": "Python 3 (ipykernel)",
   "language": "python",
   "name": "python3"
  },
  "language_info": {
   "codemirror_mode": {
    "name": "ipython",
    "version": 3
   },
   "file_extension": ".py",
   "mimetype": "text/x-python",
   "name": "python",
   "nbconvert_exporter": "python",
   "pygments_lexer": "ipython3",
   "version": "3.7.13"
  }
 },
 "nbformat": 4,
 "nbformat_minor": 5
}
